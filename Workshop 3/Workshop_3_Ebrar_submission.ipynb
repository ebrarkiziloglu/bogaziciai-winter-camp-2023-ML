{
  "cells": [
    {
      "cell_type": "markdown",
      "metadata": {
        "id": "view-in-github",
        "colab_type": "text"
      },
      "source": [
        "<a href=\"https://colab.research.google.com/github/ebrarkiziloglu/bogaziciai-winter-camp-2023-ML/blob/main/Workshop%203/Workshop_3_Ebrar_submission.ipynb\" target=\"_parent\"><img src=\"https://colab.research.google.com/assets/colab-badge.svg\" alt=\"Open In Colab\"/></a>"
      ]
    },
    {
      "cell_type": "markdown",
      "id": "b19653de",
      "metadata": {
        "id": "b19653de"
      },
      "source": [
        "<center><h1>bogaziciAI Winter Camp</h1></center>\n",
        "<center><h2>Workshop 2</h2></center>"
      ]
    },
    {
      "cell_type": "markdown",
      "id": "6d925fdf",
      "metadata": {
        "id": "6d925fdf"
      },
      "source": [
        "<center><h3>Grading Table</h3></center>"
      ]
    },
    {
      "cell_type": "markdown",
      "id": "d77c71e6",
      "metadata": {
        "id": "d77c71e6"
      },
      "source": [
        "<table>\n",
        "  <col>\n",
        "  <colgroup span=\"3\"></colgroup>\n",
        "  <colgroup span=\"2\"></colgroup>\n",
        "  <tr>\n",
        "    <td rowspan=\"1\"></td>\n",
        "    <th colspan=\"1\" scope=\"colgroup\">Part 1</th>>\n",
        "    <th colspan=\"1\" scope=\"colgroup\">Part 2</th>\n",
        "    <th colspan=\"1\" scope=\"colgroup\">Total</th>\n",
        "  </tr>\n",
        "  <tr>\n",
        "    <th scope=\"row\">Points</th>\n",
        "    <td>50</td>\n",
        "    <td>50</td>\n",
        "    <td>100</td>\n",
        "  </tr>\n",
        "</table>"
      ]
    },
    {
      "cell_type": "code",
      "execution_count": null,
      "id": "7ec8318e",
      "metadata": {
        "id": "7ec8318e"
      },
      "outputs": [],
      "source": [
        "import warnings\n",
        "warnings.filterwarnings('ignore')\n",
        "\n",
        "import numpy as np\n",
        "import matplotlib.pyplot as plt\n",
        "import seaborn as sns\n",
        "from sklearn import linear_model, preprocessing, model_selection, neighbors, cluster\n",
        "from sklearn.preprocessing import StandardScaler\n",
        "from matplotlib.pyplot import cm\n",
        "from matplotlib.colors import BoundaryNorm\n",
        "from matplotlib.ticker import MaxNLocator\n",
        "from sklearn.model_selection import train_test_split\n",
        "import pandas as pd"
      ]
    },
    {
      "cell_type": "markdown",
      "id": "73b1472c",
      "metadata": {
        "id": "73b1472c"
      },
      "source": [
        "# Part 1 - K Nearest Neighbors"
      ]
    },
    {
      "cell_type": "markdown",
      "id": "899cae5d",
      "metadata": {
        "id": "899cae5d"
      },
      "source": [
        "We will use the famous iris dataset in this part."
      ]
    },
    {
      "cell_type": "code",
      "execution_count": null,
      "id": "fac0b064",
      "metadata": {
        "colab": {
          "base_uri": "https://localhost:8080/",
          "height": 279
        },
        "id": "fac0b064",
        "outputId": "fc045457-743c-4f00-a0c3-1db262fedfdf"
      },
      "outputs": [
        {
          "output_type": "display_data",
          "data": {
            "text/plain": [
              "<Figure size 432x288 with 1 Axes>"
            ],
            "image/png": "[encoded data removed]"
          },
          "metadata": {
            "needs_background": "light"
          }
        }
      ],
      "source": [
        "df = pd.read_csv('iris.data',names=['Sepal Length', 'Sepal Width', 'Petal Length', 'Petal Width', 'Class'])\n",
        "sns.scatterplot('Petal Length', 'Petal Width', data=df, hue='Class')\n",
        "plt.show()"
      ]
    },
    {
      "cell_type": "markdown",
      "id": "80d078fc",
      "metadata": {
        "id": "80d078fc"
      },
      "source": [
        "### Step 1\n",
        "\n",
        "Split the dataset into train and test sets."
      ]
    },
    {
      "cell_type": "code",
      "execution_count": null,
      "id": "e32b08ba",
      "metadata": {
        "id": "e32b08ba"
      },
      "outputs": [],
      "source": [
        "X = df.drop('Class', axis =1)\n",
        "y = df['Class']\n",
        "X_training, X_test, y_training, y_test = train_test_split(X, y, random_state=1, test_size=0.25)"
      ]
    },
    {
      "cell_type": "markdown",
      "id": "2fd33fae",
      "metadata": {
        "id": "2fd33fae"
      },
      "source": [
        "### Step 2\n",
        "\n",
        "Standardize the dataset"
      ]
    },
    {
      "cell_type": "code",
      "execution_count": null,
      "id": "6cfc4c57",
      "metadata": {
        "id": "6cfc4c57"
      },
      "outputs": [],
      "source": [
        "scaler = preprocessing.StandardScaler()\n",
        "X_training = scaler.fit_transform(X_training)\n",
        "X_test = scaler.transform(X_test)\n",
        "y_training = np.array(y_training)\n",
        "y_test = np.array(y_test)"
      ]
    },
    {
      "cell_type": "markdown",
      "id": "d428b10a",
      "metadata": {
        "id": "d428b10a"
      },
      "source": [
        "### Step 3\n",
        "\n",
        "Write your custom KNN class"
      ]
    },
    {
      "cell_type": "code",
      "execution_count": null,
      "id": "6bc7be5d",
      "metadata": {
        "id": "6bc7be5d"
      },
      "outputs": [],
      "source": [
        "from collections import Counter\n",
        "class CustomKNN:\n",
        "    def __init__(self, k: int) -> None:\n",
        "      self.k = k\n",
        "    \n",
        "    def fit(self, X_training: list, y_training: list) -> None:\n",
        "      self.X_data = X_training\n",
        "      self.y_data = y_training\n",
        "      self.num_of_training_data = len(X_training)\n",
        "\n",
        "    def find_kNN(self, unlabeled: tuple) -> dict:\n",
        "      outputs = {}\n",
        "      for i in range(self.num_of_training_data):\n",
        "        distance = self.calculate_distance(unlabeled, self.X_data[i])\n",
        "        outputs[distance] = self.y_data[i]\n",
        "      outputs\n",
        "      results = [outputs[distance] for distance in sorted(outputs.keys())[:k]]\n",
        "      kNN = dict(Counter(results))\n",
        "      return kNN\n",
        "\n",
        "    def predict(self, unlabeled: tuple) -> str:\n",
        "      predicted_outputs = self.find_kNN(unlabeled)\n",
        "      return max(predicted_outputs.items(), key=lambda x: x[1])[0]\n",
        "    \n",
        "    def calculate_accuracy(self, X_test: list, y_test:list) -> float:\n",
        "      correct = 0\n",
        "      total = len(X_test)\n",
        "      for i in range(total):\n",
        "        if self.predict(X_test[i]) == y_test[i]:\n",
        "          correct += 1\n",
        "      return correct / total\n",
        "\n",
        "\n",
        "    def calculate_distance(self, unlabeled: tuple, labeled: tuple) -> float:\n",
        "      return np.sum((unlabeled - labeled)**2)"
      ]
    },
    {
      "cell_type": "markdown",
      "id": "9a2b3047",
      "metadata": {
        "id": "9a2b3047"
      },
      "source": [
        "### Step 4\n",
        "\n",
        "Fit the training data to model"
      ]
    },
    {
      "cell_type": "code",
      "execution_count": null,
      "id": "3557f911",
      "metadata": {
        "id": "3557f911"
      },
      "outputs": [],
      "source": [
        "k_values = np.arange(1, 10)\n",
        "kNN_instances = {}\n",
        "for k in k_values:\n",
        "  my_kNN = CustomKNN(k)\n",
        "  my_kNN.fit(X_training, y_training)\n",
        "  kNN_instances[k] = my_kNN"
      ]
    },
    {
      "cell_type": "markdown",
      "id": "80c69267",
      "metadata": {
        "id": "80c69267"
      },
      "source": [
        "### Step 5\n",
        "\n",
        "Evaluate the accuracy"
      ]
    },
    {
      "cell_type": "code",
      "execution_count": null,
      "id": "1da53f11",
      "metadata": {
        "id": "1da53f11",
        "colab": {
          "base_uri": "https://localhost:8080/"
        },
        "outputId": "89c0ed65-d55b-44f5-8b8e-b8cd33e8e077"
      },
      "outputs": [
        {
          "output_type": "stream",
          "name": "stdout",
          "text": [
            "For 1 points, accuracy is 0.9737\n",
            "For 2 points, accuracy is 0.9737\n",
            "For 3 points, accuracy is 1.0000\n",
            "For 4 points, accuracy is 0.9737\n",
            "For 5 points, accuracy is 0.9737\n",
            "For 6 points, accuracy is 0.9737\n",
            "For 7 points, accuracy is 0.9737\n",
            "For 8 points, accuracy is 0.9737\n",
            "For 9 points, accuracy is 1.0000\n"
          ]
        }
      ],
      "source": [
        "k_statistics = []\n",
        "for k in k_values:\n",
        "  accuracy = kNN_instances[k].calculate_accuracy(X_test, y_test)\n",
        "  k_statistics.append(accuracy)\n",
        "  print(f\"For {k} points, accuracy is {accuracy:.4f}\")"
      ]
    },
    {
      "cell_type": "markdown",
      "id": "a0a125c0",
      "metadata": {
        "id": "a0a125c0"
      },
      "source": [
        "### Step 6\n",
        "\n",
        "Use sklearn's KNN classifier and compare the results"
      ]
    },
    {
      "cell_type": "code",
      "execution_count": null,
      "id": "d9865461",
      "metadata": {
        "id": "d9865461"
      },
      "outputs": [],
      "source": [
        "from sklearn.neighbors import KNeighborsClassifier"
      ]
    },
    {
      "cell_type": "code",
      "execution_count": null,
      "id": "716b4793",
      "metadata": {
        "id": "716b4793",
        "colab": {
          "base_uri": "https://localhost:8080/",
          "height": 426
        },
        "outputId": "51d67592-85ca-4b14-b57a-45dd878638b0"
      },
      "outputs": [
        {
          "output_type": "stream",
          "name": "stdout",
          "text": [
            "For 1 points, accuracy is 0.9737\n",
            "For 2 points, accuracy is 0.9737\n",
            "For 3 points, accuracy is 1.0000\n",
            "For 4 points, accuracy is 1.0000\n",
            "For 5 points, accuracy is 0.9737\n",
            "For 6 points, accuracy is 1.0000\n",
            "For 7 points, accuracy is 0.9737\n",
            "For 8 points, accuracy is 1.0000\n",
            "For 9 points, accuracy is 1.0000\n"
          ]
        },
        {
          "output_type": "display_data",
          "data": {
            "text/plain": [
              "<Figure size 432x288 with 1 Axes>"
            ],
            "image/png": "[encoded data removed]"
          },
          "metadata": {
            "needs_background": "light"
          }
        }
      ],
      "source": [
        "sklearn_accuracy = []\n",
        "for k in k_values:\n",
        "  classifier = neighbors.KNeighborsClassifier(n_neighbors=k)\n",
        "  classifier.fit(X_training, y_training)\n",
        "  accuracy = classifier.score(X_test, y_test)\n",
        "  sklearn_accuracy.append(accuracy)\n",
        "  print(f\"For {k} points, accuracy is {accuracy:.4f}\")\n",
        "\n",
        "plt.plot(k_values, k_statistics, label=\"my_kNN\")\n",
        "plt.plot(k_values, sklearn_accuracy, label=\"builtin_kNN\")\n",
        "plt.legend()\n",
        "plt.show()"
      ]
    },
    {
      "cell_type": "markdown",
      "id": "b9856d05",
      "metadata": {
        "id": "b9856d05"
      },
      "source": [
        "### Step 7\n",
        "\n",
        "We have gathered 5 unknown samples below. Predict which sample belongs to which category. <br>\n",
        "*Hint: You can use classifier.predict(x) method.* <br>\n",
        "**Extra:** Indicate the probability of prediction.\n",
        "\n",
        "\n",
        "| Sepal Length | Sepal Width | Petal Length | Petal Width | Class | \n",
        "| :-: | :-: | :-: | :-: | :-: |\n",
        "| 4.5 | 3.0 | 1.5 | 0.5 | Unknown |\n",
        "| 7.0 | 3.0 | 5.0 | 1.5 | Unknown |\n",
        "| 6.0 | 2.5 | 5.0 | 2.0 | Unknown |\n",
        "| 7.0 | 3.0 | 4.5 | 1.0 | Unknown |\n",
        "| 6.0 | 2.0 | 5.0 | 1.5 | Unknown |"
      ]
    },
    {
      "cell_type": "code",
      "execution_count": null,
      "id": "82c44cb6",
      "metadata": {
        "id": "82c44cb6",
        "colab": {
          "base_uri": "https://localhost:8080/"
        },
        "outputId": "ea4f4cd8-ab7a-4d95-d0b5-d2b09054684d"
      },
      "outputs": [
        {
          "output_type": "stream",
          "name": "stdout",
          "text": [
            "Custom predictions are:\t\tBuilt-in predictions are:\n",
            "Iris-setosa\t\t\t Iris-setosa\n",
            "Iris-versicolor\t\t\t Iris-versicolor\n",
            "Iris-virginica\t\t\t Iris-virginica\n",
            "Iris-versicolor\t\t\t Iris-versicolor\n",
            "Iris-versicolor\t\t\t Iris-versicolor\n",
            "\n",
            "All results are same!\n"
          ]
        }
      ],
      "source": [
        "test_data = np.array([(4.5, 3.0, 1.5, 0.5), \n",
        "                       (7.0, 3.0, 5.0, 1.5), \n",
        "                       (6.0, 2.5, 5.0, 2.0), \n",
        "                       (7.0, 3.0, 4.5, 1.0), \n",
        "                       (6.0, 2.0, 5.0, 1.5)])\n",
        "test_size = len(test_data)\n",
        "test_data = scaler.transform(test_data)\n",
        "my_kNN = CustomKNN(5)\n",
        "my_kNN.fit(X_training, y_training)\n",
        "predictions = []\n",
        "for data in test_data:\n",
        "  prediction = my_kNN.predict(data)\n",
        "  predictions.append(prediction)\n",
        "\n",
        "print(f\"Custom predictions are:\\t\\tBuilt-in predictions are:\")\n",
        "builtin_predictions = classifier.predict(test_data)\n",
        "is_all_results_same = True\n",
        "for i in range(test_size):\n",
        "  if predictions[i] != builtin_predictions[i]:\n",
        "    is_all_results_same = False\n",
        "  print(f\"{predictions[i]}\\t\\t\\t {builtin_predictions[i]}\")\n",
        "if is_all_results_same:\n",
        "  print(\"\\nAll results are same!\")\n",
        "else:\n",
        "  print(\"\\nThere are differences in results :( \")"
      ]
    },
    {
      "cell_type": "markdown",
      "id": "6e31f19e",
      "metadata": {
        "id": "6e31f19e"
      },
      "source": [
        "# Part 2 - K-Means Clustering"
      ]
    },
    {
      "cell_type": "markdown",
      "id": "73deac3d",
      "metadata": {
        "id": "73deac3d"
      },
      "source": [
        "## Dataset\n",
        "<br>\n",
        "We use dataset from https://www.kaggle.com/kandij/mall-customers throughout this notebook."
      ]
    },
    {
      "cell_type": "code",
      "execution_count": null,
      "id": "51a980d4",
      "metadata": {
        "id": "51a980d4",
        "outputId": "121b69e3-c1bd-4acc-f4fa-bd5cdf6ed825",
        "colab": {
          "base_uri": "https://localhost:8080/",
          "height": 206
        }
      },
      "outputs": [
        {
          "output_type": "execute_result",
          "data": {
            "text/plain": [
              "   Gender  Age  Annual Income (k$)  Spending Score (1-100)\n",
              "0       0   19                  15                      39\n",
              "1       0   21                  15                      81\n",
              "2       1   20                  16                       6\n",
              "3       1   23                  16                      77\n",
              "4       1   31                  17                      40"
            ],
            "text/html": [
              "\n",
              "  <div id=\"df-9ea15d45-b4bb-4c23-9678-97e21ab45b36\">\n",
              "    <div class=\"colab-df-container\">\n",
              "      <div>\n",
              "<style scoped>\n",
              "    .dataframe tbody tr th:only-of-type {\n",
              "        vertical-align: middle;\n",
              "    }\n",
              "\n",
              "    .dataframe tbody tr th {\n",
              "        vertical-align: top;\n",
              "    }\n",
              "\n",
              "    .dataframe thead th {\n",
              "        text-align: right;\n",
              "    }\n",
              "</style>\n",
              "<table border=\"1\" class=\"dataframe\">\n",
              "  <thead>\n",
              "    <tr style=\"text-align: right;\">\n",
              "      <th></th>\n",
              "      <th>Gender</th>\n",
              "      <th>Age</th>\n",
              "      <th>Annual Income (k$)</th>\n",
              "      <th>Spending Score (1-100)</th>\n",
              "    </tr>\n",
              "  </thead>\n",
              "  <tbody>\n",
              "    <tr>\n",
              "      <th>0</th>\n",
              "      <td>0</td>\n",
              "      <td>19</td>\n",
              "      <td>15</td>\n",
              "      <td>39</td>\n",
              "    </tr>\n",
              "    <tr>\n",
              "      <th>1</th>\n",
              "      <td>0</td>\n",
              "      <td>21</td>\n",
              "      <td>15</td>\n",
              "      <td>81</td>\n",
              "    </tr>\n",
              "    <tr>\n",
              "      <th>2</th>\n",
              "      <td>1</td>\n",
              "      <td>20</td>\n",
              "      <td>16</td>\n",
              "      <td>6</td>\n",
              "    </tr>\n",
              "    <tr>\n",
              "      <th>3</th>\n",
              "      <td>1</td>\n",
              "      <td>23</td>\n",
              "      <td>16</td>\n",
              "      <td>77</td>\n",
              "    </tr>\n",
              "    <tr>\n",
              "      <th>4</th>\n",
              "      <td>1</td>\n",
              "      <td>31</td>\n",
              "      <td>17</td>\n",
              "      <td>40</td>\n",
              "    </tr>\n",
              "  </tbody>\n",
              "</table>\n",
              "</div>\n",
              "      <button class=\"colab-df-convert\" onclick=\"convertToInteractive('df-9ea15d45-b4bb-4c23-9678-97e21ab45b36')\"\n",
              "              title=\"Convert this dataframe to an interactive table.\"\n",
              "              style=\"display:none;\">\n",
              "        \n",
              "  <svg xmlns=\"http://www.w3.org/2000/svg\" height=\"24px\"viewBox=\"0 0 24 24\"\n",
              "       width=\"24px\">\n",
              "    <path d=\"M0 0h24v24H0V0z\" fill=\"none\"/>\n",
              "    <path d=\"M18.56 5.44l.94 2.06.94-2.06 2.06-.94-2.06-.94-.94-2.06-.94 2.06-2.06.94zm-11 1L8.5 8.5l.94-2.06 2.06-.94-2.06-.94L8.5 2.5l-.94 2.06-2.06.94zm10 10l.94 2.06.94-2.06 2.06-.94-2.06-.94-.94-2.06-.94 2.06-2.06.94z\"/><path d=\"M17.41 7.96l-1.37-1.37c-.4-.4-.92-.59-1.43-.59-.52 0-1.04.2-1.43.59L10.3 9.45l-7.72 7.72c-.78.78-.78 2.05 0 2.83L4 21.41c.39.39.9.59 1.41.59.51 0 1.02-.2 1.41-.59l7.78-7.78 2.81-2.81c.8-.78.8-2.07 0-2.86zM5.41 20L4 18.59l7.72-7.72 1.47 1.35L5.41 20z\"/>\n",
              "  </svg>\n",
              "      </button>\n",
              "      \n",
              "  <style>\n",
              "    .colab-df-container {\n",
              "      display:flex;\n",
              "      flex-wrap:wrap;\n",
              "      gap: 12px;\n",
              "    }\n",
              "\n",
              "    .colab-df-convert {\n",
              "      background-color: #E8F0FE;\n",
              "      border: none;\n",
              "      border-radius: 50%;\n",
              "      cursor: pointer;\n",
              "      display: none;\n",
              "      fill: #1967D2;\n",
              "      height: 32px;\n",
              "      padding: 0 0 0 0;\n",
              "      width: 32px;\n",
              "    }\n",
              "\n",
              "    .colab-df-convert:hover {\n",
              "      background-color: #E2EBFA;\n",
              "      box-shadow: 0px 1px 2px rgba(60, 64, 67, 0.3), 0px 1px 3px 1px rgba(60, 64, 67, 0.15);\n",
              "      fill: #174EA6;\n",
              "    }\n",
              "\n",
              "    [theme=dark] .colab-df-convert {\n",
              "      background-color: #3B4455;\n",
              "      fill: #D2E3FC;\n",
              "    }\n",
              "\n",
              "    [theme=dark] .colab-df-convert:hover {\n",
              "      background-color: #434B5C;\n",
              "      box-shadow: 0px 1px 3px 1px rgba(0, 0, 0, 0.15);\n",
              "      filter: drop-shadow(0px 1px 2px rgba(0, 0, 0, 0.3));\n",
              "      fill: #FFFFFF;\n",
              "    }\n",
              "  </style>\n",
              "\n",
              "      <script>\n",
              "        const buttonEl =\n",
              "          document.querySelector('#df-9ea15d45-b4bb-4c23-9678-97e21ab45b36 button.colab-df-convert');\n",
              "        buttonEl.style.display =\n",
              "          google.colab.kernel.accessAllowed ? 'block' : 'none';\n",
              "\n",
              "        async function convertToInteractive(key) {\n",
              "          const element = document.querySelector('#df-9ea15d45-b4bb-4c23-9678-97e21ab45b36');\n",
              "          const dataTable =\n",
              "            await google.colab.kernel.invokeFunction('convertToInteractive',\n",
              "                                                     [key], {});\n",
              "          if (!dataTable) return;\n",
              "\n",
              "          const docLinkHtml = 'Like what you see? Visit the ' +\n",
              "            '<a target=\"_blank\" href=https://colab.research.google.com/notebooks/data_table.ipynb>data table notebook</a>'\n",
              "            + ' to learn more about interactive tables.';\n",
              "          element.innerHTML = '';\n",
              "          dataTable['output_type'] = 'display_data';\n",
              "          await google.colab.output.renderOutput(dataTable, element);\n",
              "          const docLink = document.createElement('div');\n",
              "          docLink.innerHTML = docLinkHtml;\n",
              "          element.appendChild(docLink);\n",
              "        }\n",
              "      </script>\n",
              "    </div>\n",
              "  </div>\n",
              "  "
            ]
          },
          "metadata": {},
          "execution_count": 310
        }
      ],
      "source": [
        "df = pd.read_csv(\"segmented_customers.csv\")\n",
        "df[\"Gender\"] = df[\"Gender\"].replace({\"Male\": 0, \"Female\": 1})\n",
        "df.head()"
      ]
    },
    {
      "cell_type": "markdown",
      "id": "4449b1e6",
      "metadata": {
        "id": "4449b1e6"
      },
      "source": [
        "### Step 1\n",
        "<br>\n",
        "For this part, we will only use Age and Spending Score columns.\n",
        "<br>\n",
        "Plot the dataframe so that \"Age\" column is on the x axis and \"Spending Score (1-100)\" is on the y axis."
      ]
    },
    {
      "cell_type": "code",
      "execution_count": null,
      "id": "a8847594",
      "metadata": {
        "id": "a8847594",
        "colab": {
          "base_uri": "https://localhost:8080/",
          "height": 279
        },
        "outputId": "7db4414a-6947-49eb-d745-7c177863feea"
      },
      "outputs": [
        {
          "output_type": "display_data",
          "data": {
            "text/plain": [
              "<Figure size 432x288 with 1 Axes>"
            ],
            "image/png": "[encoded data removed]"
          },
          "metadata": {
            "needs_background": "light"
          }
        }
      ],
      "source": [
        "X_2 = np.array(df[[\"Age\"]])\n",
        "y_2 = df[\"Spending Score (1-100)\"]\n",
        "plt.scatter(X_2, y_2, c=\"green\")\n",
        "plt.xlabel(\"Age\")\n",
        "plt.ylabel(\"Spending Score (1-100)\")\n",
        "plt.show()"
      ]
    },
    {
      "cell_type": "code",
      "source": [
        "scaler = preprocessing.StandardScaler()\n",
        "X_2 = scaler.fit_transform(X_2)\n",
        "y_2 = np.array(y_2)"
      ],
      "metadata": {
        "id": "O38vd6BSjvES"
      },
      "id": "O38vd6BSjvES",
      "execution_count": null,
      "outputs": []
    },
    {
      "cell_type": "markdown",
      "id": "ebc0eb14",
      "metadata": {
        "id": "ebc0eb14"
      },
      "source": [
        "### Step 2\n",
        "<br>\n",
        "Implement your own simple Kmeans algorithm without using pre-implemented libraries for KMeans. You can \n",
        "refer to the structure below while structuring your code. You do not have to use the same structure. \n",
        "Any type of initialization method for your centroids is accepted. You will solely be graded on whether or not your algorithm performs as expected, we will not take the accuracy into account as long as the algorithm gives meaningful results."
      ]
    },
    {
      "cell_type": "code",
      "execution_count": null,
      "id": "63ca6f92",
      "metadata": {
        "id": "63ca6f92"
      },
      "outputs": [],
      "source": [
        "import sys\n",
        "import copy\n",
        "\n",
        "class CustomK_means:\n",
        "    def __init__(self, k: int, X_data: list, y_data: list) -> None:\n",
        "      self.k = k\n",
        "      self.data = []\n",
        "      self.data_size = 0\n",
        "      self.clusters = []\n",
        "      self.centroids = []\n",
        "      self.data_size = len(X_data)\n",
        "      for x, y in zip(X_data, y_data): \n",
        "        self.data.append((np.round(x[0], decimals = 2),(np.round(y, decimals = 2))))\n",
        "\n",
        "    def initialize_clusters(self) -> None:\n",
        "      self.centroids = [tuple(np.round(self.data[index], decimals=2)) for index in np.random.choice(np.arange(0, self.data_size), size=self.k, replace=False)]\n",
        "      self.clusters = [[] for i in range(len(self.centroids))] \n",
        "      for data_point in self.data:\n",
        "        closest_centroid = self.find_centroid(data_point, True)\n",
        "        self.clusters[self.centroids.index(closest_centroid)].append(data_point)\n",
        "      return \n",
        "    \n",
        "    def arrange_clusters(self) -> bool:\n",
        "      previous_clusters = self.update_centroids()\n",
        "      for data_point in self.data:\n",
        "        closest_centroid = self.find_centroid(data_point, True)\n",
        "        self.clusters[self.centroids.index(closest_centroid)].append(data_point)\n",
        "\n",
        "      if np.array_equal(previous_clusters, self.clusters):\n",
        "        return False\n",
        "      return True\n",
        "    \n",
        "    def update_centroids(self) -> list:\n",
        "      self.centroids.clear()\n",
        "      previous_clusters = copy.deepcopy(self.clusters)\n",
        "      self.clusters.clear()\n",
        "      for points in previous_clusters:\n",
        "        x_mean, y_mean = 0, 0\n",
        "        for point in points:\n",
        "          x_mean += point[0]\n",
        "          y_mean += point[1]\n",
        "        mean = tuple(np.round([x_mean / len(points), y_mean / len(points)], decimals=2))\n",
        "        self.centroids.append(mean)\n",
        "      self.clusters = [[] for i in range(len(self.centroids))] \n",
        "      return previous_clusters\n",
        "    \n",
        "    def calculate_cost(self) -> float:\n",
        "      cost = 0\n",
        "      for i, cluster in enumerate(self.clusters):\n",
        "        for data in cluster:\n",
        "          cost += self.calculate_distance(data, self.centroids[i])\n",
        "      return cost\n",
        "    \n",
        "    def find_centroid(self, data_point: tuple, initial: bool) -> tuple:\n",
        "      min_distance = sys.maxsize\n",
        "      closest_centroid = None\n",
        "      for centroid in self.centroids: \n",
        "        distance = self.calculate_distance(data_point, centroid)\n",
        "        if distance < min_distance:\n",
        "          min_distance = distance\n",
        "          closest_centroid = tuple([centroid[0], centroid[1]])\n",
        "      return closest_centroid\n",
        "    \n",
        "    def plot(self):\n",
        "      fig, ax = plt.subplots(figsize=(12, 8))\n",
        "      color = cm.rainbow(np.linspace(0, 1, k))\n",
        "      for i, cluster in enumerate(self.clusters):\n",
        "        for point in cluster:\n",
        "          ax.scatter(point[0], point[1], color=color[i])\n",
        "      for centroid in self.centroids:\n",
        "        ax.scatter(centroid[0], centroid[1], marker='x', color='black', linewidth=3)\n",
        "    \n",
        "    def calculate_distance(self, data_point: tuple, reference: tuple) -> float:\n",
        "      return (np.sum((list(data_point) - np.array(reference))**2))**0.5"
      ]
    },
    {
      "cell_type": "markdown",
      "id": "f752266e",
      "metadata": {
        "id": "f752266e"
      },
      "source": [
        "### Step 3\n",
        "<br>\n",
        "After you complete your algorithm, test it for number of clusters between 1-15. Use elbow method to decide on the\n",
        "best number of clusters. For the best number of clusters you chose, visualize the clusters and centroids. Comment on your results, what improvements can be made on the algorithm?"
      ]
    },
    {
      "cell_type": "code",
      "execution_count": null,
      "id": "38797a42",
      "metadata": {
        "id": "38797a42",
        "colab": {
          "base_uri": "https://localhost:8080/",
          "height": 297
        },
        "outputId": "82ca722d-6138-4121-f504-88375b15060c"
      },
      "outputs": [
        {
          "output_type": "display_data",
          "data": {
            "text/plain": [
              "<Figure size 432x288 with 1 Axes>"
            ],
            "image/png": "[encoded data removed]"
          },
          "metadata": {
            "needs_background": "light"
          }
        },
        {
          "output_type": "stream",
          "name": "stdout",
          "text": [
            "Best value for k is 14\n"
          ]
        }
      ],
      "source": [
        "k_values = np.arange(1, 15)\n",
        "k_costs = []\n",
        "for k in k_values:\n",
        "  mean_cost = 0\n",
        "  for i in range(8):\n",
        "    costs = []\n",
        "    my_kmeans = CustomK_means(k, X_2, y_2)\n",
        "    centroids = my_kmeans.initialize_clusters()\n",
        "    initial_cost = my_kmeans.calculate_cost()\n",
        "    costs.append(initial_cost)\n",
        "    while my_kmeans.arrange_clusters():\n",
        "      cost = my_kmeans.calculate_cost()\n",
        "      costs.append(cost)\n",
        "    mean_cost += costs[-1]\n",
        "  mean_cost /= 5\n",
        "  k_costs.append(mean_cost)\n",
        "\n",
        "plt.plot(k_values, k_costs, c=\"green\", marker='o')\n",
        "plt.xlabel('Number of clusters')\n",
        "plt.ylabel('Cost')\n",
        "plt.show()\n",
        "best_k = k_values[k_costs.index(min(k_costs))]\n",
        "print(f\"Best value for k is {best_k}\")"
      ]
    },
    {
      "cell_type": "code",
      "execution_count": null,
      "id": "8e362dbd",
      "metadata": {
        "id": "8e362dbd",
        "colab": {
          "base_uri": "https://localhost:8080/",
          "height": 501
        },
        "outputId": "647a83d3-b68c-48f7-92d6-c04085f3fbd5"
      },
      "outputs": [
        {
          "output_type": "stream",
          "name": "stdout",
          "text": [
            "5\n"
          ]
        },
        {
          "output_type": "display_data",
          "data": {
            "text/plain": [
              "<Figure size 864x576 with 1 Axes>"
            ],
            "image/png": "[encoded data removed]"
          },
          "metadata": {
            "needs_background": "light"
          }
        }
      ],
      "source": [
        "# Plot the graph:\n",
        "k = 5\n",
        "costs = []\n",
        "my_kmeans = CustomK_means(k, X_2, y_2)\n",
        "centroids = my_kmeans.initialize_clusters()\n",
        "initial_cost = my_kmeans.calculate_cost()\n",
        "costs.append(initial_cost)\n",
        "while my_kmeans.arrange_clusters():\n",
        "  cost = my_kmeans.calculate_cost()\n",
        "  costs.append(cost)\n",
        "print(len(my_kmeans.clusters))\n",
        "# print(f\"costs are: {costs}\")\n",
        "my_kmeans.plot()"
      ]
    },
    {
      "cell_type": "markdown",
      "id": "a068c4b5",
      "metadata": {
        "id": "a068c4b5"
      },
      "source": [
        "### Step 4\n",
        "<br>\n",
        "Use scikit-learn's KMeans class to compare your results with the optimized KMeans algrorithm. Compare it for number of clusters between 1-15 and plot the inertias (hint: you can use scikit-learn's \"inertia_\" parameter.). Comment on your results.  "
      ]
    },
    {
      "cell_type": "code",
      "execution_count": null,
      "id": "781eaca8",
      "metadata": {
        "id": "781eaca8"
      },
      "outputs": [],
      "source": [
        "coordinates = []\n",
        "for x, y in zip(X_2, y_2): \n",
        "   coordinates.append((np.round(x[0], decimals = 2),(np.round(y, decimals = 2))))\n",
        "coordinates = np.array(coordinates)"
      ]
    },
    {
      "cell_type": "code",
      "source": [
        "from sklearn.cluster import KMeans\n",
        "k_costs_builtin = []\n",
        "for k in k_values:\n",
        "  kmeans = KMeans(n_clusters=k, random_state=0) \n",
        "  kmeans.fit(coordinates)\n",
        "  k_costs_builtin.append(kmeans.inertia_)\n",
        "\n",
        "k_costs_builtin = [item/12 for item in k_costs_builtin]     # scale\n",
        "plt.plot(k_values, k_costs_builtin, c=\"green\", marker='o', label=\"built_in\")\n",
        "plt.plot(k_values, k_costs, c=\"orange\", marker='x', label=\"my_implementation\")\n",
        "plt.xlabel('Number of clusters')\n",
        "plt.ylabel('Cost')\n",
        "plt.legend()\n",
        "plt.show()"
      ],
      "metadata": {
        "id": "VWPj6KIH_f_T",
        "outputId": "b4c63ba7-29cf-4d4c-b92d-18b96e53b68a",
        "colab": {
          "base_uri": "https://localhost:8080/",
          "height": 279
        }
      },
      "id": "VWPj6KIH_f_T",
      "execution_count": null,
      "outputs": [
        {
          "output_type": "display_data",
          "data": {
            "text/plain": [
              "<Figure size 432x288 with 1 Axes>"
            ],
            "image/png": "[encoded data removed]"
          },
          "metadata": {
            "needs_background": "light"
          }
        }
      ]
    },
    {
      "cell_type": "code",
      "source": [
        "# As a result, both of the implementation give very similar outcomes. But overall, the builtin k-means method seems better."
      ],
      "metadata": {
        "id": "3vNOCY-PJaQw"
      },
      "id": "3vNOCY-PJaQw",
      "execution_count": null,
      "outputs": []
    }
  ],
  "metadata": {
    "kernelspec": {
      "display_name": "Python 3 (ipykernel)",
      "language": "python",
      "name": "python3"
    },
    "language_info": {
      "codemirror_mode": {
        "name": "ipython",
        "version": 3
      },
      "file_extension": ".py",
      "mimetype": "text/x-python",
      "name": "python",
      "nbconvert_exporter": "python",
      "pygments_lexer": "ipython3",
      "version": "3.8.13"
    },
    "colab": {
      "provenance": [],
      "include_colab_link": true
    }
  },
  "nbformat": 4,
  "nbformat_minor": 5
}