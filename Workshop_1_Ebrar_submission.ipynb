{
  "cells": [
    {
      "cell_type": "markdown",
      "metadata": {
        "id": "view-in-github",
        "colab_type": "text"
      },
      "source": [
        "<a href=\"https://colab.research.google.com/github/ebrarkiziloglu/bogaziciai-winter-camp-2023-ML/blob/main/Workshop_1_Ebrar_submission.ipynb\" target=\"_parent\"><img src=\"https://colab.research.google.com/assets/colab-badge.svg\" alt=\"Open In Colab\"/></a>"
      ]
    },
    {
      "cell_type": "markdown",
      "id": "40cb8646",
      "metadata": {
        "id": "40cb8646"
      },
      "source": [
        "<center><h1>bogaziciAI Winter Camp</h1></center>\n",
        "<center><h2>Workshop 1</h2></center>"
      ]
    },
    {
      "cell_type": "markdown",
      "id": "e2f25a9d",
      "metadata": {
        "id": "e2f25a9d"
      },
      "source": [
        "<center><h3>Grading Table</h3></center>"
      ]
    },
    {
      "cell_type": "markdown",
      "id": "0db49ba8",
      "metadata": {
        "id": "0db49ba8"
      },
      "source": [
        "|             | Part 1 | Part 2      | Part 3 | General Otline      | Total |\n",
        "| ----------- | ----------- | ----------- | ----------- | ----------- | ----------- |\n",
        "| **Points**      | 30     | 30          | 30     | 10                  | 100   |"
      ]
    },
    {
      "cell_type": "code",
      "execution_count": null,
      "id": "8ba3f3b7",
      "metadata": {
        "id": "8ba3f3b7"
      },
      "outputs": [],
      "source": [
        "import warnings\n",
        "warnings.filterwarnings('ignore')\n",
        "\n",
        "# fundamental modules\n",
        "import numpy as np\n",
        "import pandas as pd\n",
        "\n",
        "# sklearn\n",
        "from sklearn.preprocessing import PolynomialFeatures\n",
        "from sklearn.linear_model import LinearRegression\n",
        "from sklearn.model_selection import train_test_split\n",
        "from sklearn.preprocessing import StandardScaler\n",
        "\n",
        "# you can use for visualization\n",
        "import seaborn as sns\n",
        "import matplotlib.pyplot as plt\n",
        "\n",
        "# you can import any additional module you like\n",
        "from sklearn.model_selection import train_test_split"
      ]
    },
    {
      "cell_type": "code",
      "execution_count": null,
      "id": "0b60f3ce",
      "metadata": {
        "colab": {
          "base_uri": "https://localhost:8080/",
          "height": 214
        },
        "id": "0b60f3ce",
        "outputId": "fd9f3132-d1db-4201-ec6f-6a630faf1e96"
      },
      "outputs": [
        {
          "output_type": "execute_result",
          "data": {
            "text/plain": [
              "   No  transactiondate  houseage  distancetostation  numberofstores  latitude  \\\n",
              "0   1         2012.917      32.0           84.87882              10  24.98298   \n",
              "1   2         2012.917      19.5          306.59470               9  24.98034   \n",
              "2   3         2013.583      13.3          561.98450               5  24.98746   \n",
              "3   4         2013.500      13.3          561.98450               5  24.98746   \n",
              "4   5         2012.833       5.0          390.56840               5  24.97937   \n",
              "\n",
              "   longitude  housepriceofunitarea  \n",
              "0  121.54024                  37.9  \n",
              "1  121.53951                  42.2  \n",
              "2  121.54391                  47.3  \n",
              "3  121.54391                  54.8  \n",
              "4  121.54245                  43.1  "
            ],
            "text/html": [
              "\n",
              "  <div id=\"df-11c8f26c-976b-414f-a9f0-d952776e9808\">\n",
              "    <div class=\"colab-df-container\">\n",
              "      <div>\n",
              "<style scoped>\n",
              "    .dataframe tbody tr th:only-of-type {\n",
              "        vertical-align: middle;\n",
              "    }\n",
              "\n",
              "    .dataframe tbody tr th {\n",
              "        vertical-align: top;\n",
              "    }\n",
              "\n",
              "    .dataframe thead th {\n",
              "        text-align: right;\n",
              "    }\n",
              "</style>\n",
              "<table border=\"1\" class=\"dataframe\">\n",
              "  <thead>\n",
              "    <tr style=\"text-align: right;\">\n",
              "      <th></th>\n",
              "      <th>No</th>\n",
              "      <th>transactiondate</th>\n",
              "      <th>houseage</th>\n",
              "      <th>distancetostation</th>\n",
              "      <th>numberofstores</th>\n",
              "      <th>latitude</th>\n",
              "      <th>longitude</th>\n",
              "      <th>housepriceofunitarea</th>\n",
              "    </tr>\n",
              "  </thead>\n",
              "  <tbody>\n",
              "    <tr>\n",
              "      <th>0</th>\n",
              "      <td>1</td>\n",
              "      <td>2012.917</td>\n",
              "      <td>32.0</td>\n",
              "      <td>84.87882</td>\n",
              "      <td>10</td>\n",
              "      <td>24.98298</td>\n",
              "      <td>121.54024</td>\n",
              "      <td>37.9</td>\n",
              "    </tr>\n",
              "    <tr>\n",
              "      <th>1</th>\n",
              "      <td>2</td>\n",
              "      <td>2012.917</td>\n",
              "      <td>19.5</td>\n",
              "      <td>306.59470</td>\n",
              "      <td>9</td>\n",
              "      <td>24.98034</td>\n",
              "      <td>121.53951</td>\n",
              "      <td>42.2</td>\n",
              "    </tr>\n",
              "    <tr>\n",
              "      <th>2</th>\n",
              "      <td>3</td>\n",
              "      <td>2013.583</td>\n",
              "      <td>13.3</td>\n",
              "      <td>561.98450</td>\n",
              "      <td>5</td>\n",
              "      <td>24.98746</td>\n",
              "      <td>121.54391</td>\n",
              "      <td>47.3</td>\n",
              "    </tr>\n",
              "    <tr>\n",
              "      <th>3</th>\n",
              "      <td>4</td>\n",
              "      <td>2013.500</td>\n",
              "      <td>13.3</td>\n",
              "      <td>561.98450</td>\n",
              "      <td>5</td>\n",
              "      <td>24.98746</td>\n",
              "      <td>121.54391</td>\n",
              "      <td>54.8</td>\n",
              "    </tr>\n",
              "    <tr>\n",
              "      <th>4</th>\n",
              "      <td>5</td>\n",
              "      <td>2012.833</td>\n",
              "      <td>5.0</td>\n",
              "      <td>390.56840</td>\n",
              "      <td>5</td>\n",
              "      <td>24.97937</td>\n",
              "      <td>121.54245</td>\n",
              "      <td>43.1</td>\n",
              "    </tr>\n",
              "  </tbody>\n",
              "</table>\n",
              "</div>\n",
              "      <button class=\"colab-df-convert\" onclick=\"convertToInteractive('df-11c8f26c-976b-414f-a9f0-d952776e9808')\"\n",
              "              title=\"Convert this dataframe to an interactive table.\"\n",
              "              style=\"display:none;\">\n",
              "        \n",
              "  <svg xmlns=\"http://www.w3.org/2000/svg\" height=\"24px\"viewBox=\"0 0 24 24\"\n",
              "       width=\"24px\">\n",
              "    <path d=\"M0 0h24v24H0V0z\" fill=\"none\"/>\n",
              "    <path d=\"M18.56 5.44l.94 2.06.94-2.06 2.06-.94-2.06-.94-.94-2.06-.94 2.06-2.06.94zm-11 1L8.5 8.5l.94-2.06 2.06-.94-2.06-.94L8.5 2.5l-.94 2.06-2.06.94zm10 10l.94 2.06.94-2.06 2.06-.94-2.06-.94-.94-2.06-.94 2.06-2.06.94z\"/><path d=\"M17.41 7.96l-1.37-1.37c-.4-.4-.92-.59-1.43-.59-.52 0-1.04.2-1.43.59L10.3 9.45l-7.72 7.72c-.78.78-.78 2.05 0 2.83L4 21.41c.39.39.9.59 1.41.59.51 0 1.02-.2 1.41-.59l7.78-7.78 2.81-2.81c.8-.78.8-2.07 0-2.86zM5.41 20L4 18.59l7.72-7.72 1.47 1.35L5.41 20z\"/>\n",
              "  </svg>\n",
              "      </button>\n",
              "      \n",
              "  <style>\n",
              "    .colab-df-container {\n",
              "      display:flex;\n",
              "      flex-wrap:wrap;\n",
              "      gap: 12px;\n",
              "    }\n",
              "\n",
              "    .colab-df-convert {\n",
              "      background-color: #E8F0FE;\n",
              "      border: none;\n",
              "      border-radius: 50%;\n",
              "      cursor: pointer;\n",
              "      display: none;\n",
              "      fill: #1967D2;\n",
              "      height: 32px;\n",
              "      padding: 0 0 0 0;\n",
              "      width: 32px;\n",
              "    }\n",
              "\n",
              "    .colab-df-convert:hover {\n",
              "      background-color: #E2EBFA;\n",
              "      box-shadow: 0px 1px 2px rgba(60, 64, 67, 0.3), 0px 1px 3px 1px rgba(60, 64, 67, 0.15);\n",
              "      fill: #174EA6;\n",
              "    }\n",
              "\n",
              "    [theme=dark] .colab-df-convert {\n",
              "      background-color: #3B4455;\n",
              "      fill: #D2E3FC;\n",
              "    }\n",
              "\n",
              "    [theme=dark] .colab-df-convert:hover {\n",
              "      background-color: #434B5C;\n",
              "      box-shadow: 0px 1px 3px 1px rgba(0, 0, 0, 0.15);\n",
              "      filter: drop-shadow(0px 1px 2px rgba(0, 0, 0, 0.3));\n",
              "      fill: #FFFFFF;\n",
              "    }\n",
              "  </style>\n",
              "\n",
              "      <script>\n",
              "        const buttonEl =\n",
              "          document.querySelector('#df-11c8f26c-976b-414f-a9f0-d952776e9808 button.colab-df-convert');\n",
              "        buttonEl.style.display =\n",
              "          google.colab.kernel.accessAllowed ? 'block' : 'none';\n",
              "\n",
              "        async function convertToInteractive(key) {\n",
              "          const element = document.querySelector('#df-11c8f26c-976b-414f-a9f0-d952776e9808');\n",
              "          const dataTable =\n",
              "            await google.colab.kernel.invokeFunction('convertToInteractive',\n",
              "                                                     [key], {});\n",
              "          if (!dataTable) return;\n",
              "\n",
              "          const docLinkHtml = 'Like what you see? Visit the ' +\n",
              "            '<a target=\"_blank\" href=https://colab.research.google.com/notebooks/data_table.ipynb>data table notebook</a>'\n",
              "            + ' to learn more about interactive tables.';\n",
              "          element.innerHTML = '';\n",
              "          dataTable['output_type'] = 'display_data';\n",
              "          await google.colab.output.renderOutput(dataTable, element);\n",
              "          const docLink = document.createElement('div');\n",
              "          docLink.innerHTML = docLinkHtml;\n",
              "          element.appendChild(docLink);\n",
              "        }\n",
              "      </script>\n",
              "    </div>\n",
              "  </div>\n",
              "  "
            ]
          },
          "metadata": {},
          "execution_count": 146
        }
      ],
      "source": [
        "df = pd.read_csv('real_estate.csv')\n",
        "df.head()"
      ]
    },
    {
      "cell_type": "markdown",
      "id": "6721f9ff",
      "metadata": {
        "id": "6721f9ff"
      },
      "source": [
        "# Task\n",
        "\n",
        "In this task, you are expected to:\n",
        "\n",
        "* Make a linear regression analysis.\n",
        "* Use the normal equation for your linear regression analysis to verify your results.\n",
        "* Make a polynomial regression analysis (You can decide on the Nth degree).\n",
        "\n",
        "<br>\n",
        "You can drop the features that you find unnecessary.\n",
        "<br>\n",
        "You can use sklearn module to perform your analysis.\n",
        "<br> \n",
        "It is advised to explore and visualize the dataset first."
      ]
    },
    {
      "cell_type": "markdown",
      "id": "1a5662ba",
      "metadata": {
        "id": "1a5662ba"
      },
      "source": [
        "# Part 1"
      ]
    },
    {
      "cell_type": "code",
      "source": [
        "features_1 = ['transactiondate', 'houseage', 'distancetostation', 'numberofstores', 'latitude']\n",
        "features_2 = ['houseage', 'distancetostation', 'numberofstores', 'latitude', 'longitude']\n",
        "X = df[features_1]\n",
        "y = df[\"housepriceofunitarea\"]\n",
        "train_X, val_X, train_y, val_y = train_test_split(X, y, random_state=2)"
      ],
      "metadata": {
        "id": "49BmHAjKkuSj"
      },
      "id": "49BmHAjKkuSj",
      "execution_count": null,
      "outputs": []
    },
    {
      "cell_type": "code",
      "execution_count": null,
      "id": "b04f3df0",
      "metadata": {
        "colab": {
          "base_uri": "https://localhost:8080/"
        },
        "id": "b04f3df0",
        "outputId": "84789606-20c5-416d-823a-3638419a9f14"
      },
      "outputs": [
        {
          "output_type": "execute_result",
          "data": {
            "text/plain": [
              "array([ 4.29126211e+00, -2.76842199e-01, -4.43700024e-03,  1.22712463e+00,\n",
              "        1.91475115e+02])"
            ]
          },
          "metadata": {},
          "execution_count": 207
        }
      ],
      "source": [
        "linear_model = LinearRegression()\n",
        "linear_model.fit(train_X, train_y)\n",
        "linear_model.coef_"
      ]
    },
    {
      "cell_type": "code",
      "source": [
        "linear_model.intercept_"
      ],
      "metadata": {
        "colab": {
          "base_uri": "https://localhost:8080/"
        },
        "id": "OhWnmplQgtFi",
        "outputId": "2fbde1fd-505f-45d7-e33c-d59f65eefa92"
      },
      "id": "OhWnmplQgtFi",
      "execution_count": null,
      "outputs": [
        {
          "output_type": "execute_result",
          "data": {
            "text/plain": [
              "-13377.287934210912"
            ]
          },
          "metadata": {},
          "execution_count": 208
        }
      ]
    },
    {
      "cell_type": "code",
      "source": [
        "linear_model.score(train_X, train_y)"
      ],
      "metadata": {
        "colab": {
          "base_uri": "https://localhost:8080/"
        },
        "id": "cVH82659i2jm",
        "outputId": "c401528f-aa7d-4d5c-d9b6-9b2545b15cd7"
      },
      "id": "cVH82659i2jm",
      "execution_count": null,
      "outputs": [
        {
          "output_type": "execute_result",
          "data": {
            "text/plain": [
              "0.598623147576696"
            ]
          },
          "metadata": {},
          "execution_count": 209
        }
      ]
    },
    {
      "cell_type": "code",
      "source": [
        "linear_model.score(X, y)"
      ],
      "metadata": {
        "colab": {
          "base_uri": "https://localhost:8080/"
        },
        "outputId": "5ef3261b-17cb-43dd-bc8c-35df74e24386",
        "id": "TLP_YpmXoCFm"
      },
      "execution_count": null,
      "outputs": [
        {
          "output_type": "execute_result",
          "data": {
            "text/plain": [
              "0.5810604050576089"
            ]
          },
          "metadata": {},
          "execution_count": 210
        }
      ],
      "id": "TLP_YpmXoCFm"
    },
    {
      "cell_type": "code",
      "source": [
        "linear_model.score(val_X, val_y)"
      ],
      "metadata": {
        "colab": {
          "base_uri": "https://localhost:8080/"
        },
        "id": "B9n5rgDFsn6A",
        "outputId": "02018efa-32c7-4d94-eab5-b1e9d284a970"
      },
      "id": "B9n5rgDFsn6A",
      "execution_count": null,
      "outputs": [
        {
          "output_type": "execute_result",
          "data": {
            "text/plain": [
              "0.5333300304298935"
            ]
          },
          "metadata": {},
          "execution_count": 211
        }
      ]
    },
    {
      "cell_type": "markdown",
      "id": "00358a91",
      "metadata": {
        "id": "00358a91"
      },
      "source": [
        "# Part 2"
      ]
    },
    {
      "cell_type": "code",
      "execution_count": null,
      "id": "552ad3a1",
      "metadata": {
        "colab": {
          "base_uri": "https://localhost:8080/"
        },
        "id": "552ad3a1",
        "outputId": "b690ad1f-a93f-4526-f151-96040383ccad"
      },
      "outputs": [
        {
          "output_type": "execute_result",
          "data": {
            "text/plain": [
              "array([-1.33772882e+04,  4.29126223e+00, -2.76842199e-01, -4.43700023e-03,\n",
              "        1.22712463e+00,  1.91475117e+02])"
            ]
          },
          "metadata": {},
          "execution_count": 212
        }
      ],
      "source": [
        "X_normal = np.hstack((np.ones((train_X.shape[0], 1)), train_X))\n",
        "# W = ( (X^T.X)^-1 ) X^T.Y\n",
        "weights = np.linalg.solve(np.dot(np.transpose(X_normal), X_normal), np.dot(np.transpose(X_normal), train_y))\n",
        "weights"
      ]
    },
    {
      "cell_type": "markdown",
      "id": "85cb12f5",
      "metadata": {
        "id": "85cb12f5"
      },
      "source": [
        "# Part 3"
      ]
    },
    {
      "cell_type": "code",
      "execution_count": null,
      "id": "a96c5f46",
      "metadata": {
        "colab": {
          "base_uri": "https://localhost:8080/"
        },
        "id": "a96c5f46",
        "outputId": "bb67eb15-fb15-4a9b-ac8b-6416b6760c1e"
      },
      "outputs": [
        {
          "output_type": "execute_result",
          "data": {
            "text/plain": [
              "LinearRegression()"
            ]
          },
          "metadata": {},
          "execution_count": 249
        }
      ],
      "source": [
        "N_poly_degree = 8\n",
        "poly = PolynomialFeatures(N_poly_degree)\n",
        "poly_X = poly.fit_transform(train_X, train_y)\n",
        "poly_model = LinearRegression()\n",
        "poly_model.fit(poly_X, train_y)\n",
        "# poly_model.coef_"
      ]
    },
    {
      "cell_type": "code",
      "execution_count": null,
      "id": "087dd83a",
      "metadata": {
        "colab": {
          "base_uri": "https://localhost:8080/"
        },
        "id": "087dd83a",
        "outputId": "1b5ac62f-44b9-4de0-e24a-48fdda036019"
      },
      "outputs": [
        {
          "output_type": "execute_result",
          "data": {
            "text/plain": [
              "1182058.0717585485"
            ]
          },
          "metadata": {},
          "execution_count": 250
        }
      ],
      "source": [
        "poly_model.intercept_"
      ]
    },
    {
      "cell_type": "code",
      "source": [
        "poly_model.score(poly_X, train_y)"
      ],
      "metadata": {
        "colab": {
          "base_uri": "https://localhost:8080/"
        },
        "id": "M8pKL1B_nw8E",
        "outputId": "3ea0e911-8167-4d2f-a0d5-07ff7fb7f95d"
      },
      "id": "M8pKL1B_nw8E",
      "execution_count": null,
      "outputs": [
        {
          "output_type": "execute_result",
          "data": {
            "text/plain": [
              "0.878860466437061"
            ]
          },
          "metadata": {},
          "execution_count": 252
        }
      ]
    }
  ],
  "metadata": {
    "kernelspec": {
      "display_name": "Python 3 (ipykernel)",
      "language": "python",
      "name": "python3"
    },
    "language_info": {
      "codemirror_mode": {
        "name": "ipython",
        "version": 3
      },
      "file_extension": ".py",
      "mimetype": "text/x-python",
      "name": "python",
      "nbconvert_exporter": "python",
      "pygments_lexer": "ipython3",
      "version": "3.8.13"
    },
    "colab": {
      "provenance": [],
      "include_colab_link": true
    }
  },
  "nbformat": 4,
  "nbformat_minor": 5
}